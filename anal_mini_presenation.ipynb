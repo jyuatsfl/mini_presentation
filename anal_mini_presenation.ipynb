{
 "cells": [
  {
   "cell_type": "code",
   "execution_count": 1,
   "metadata": {},
   "outputs": [],
   "source": [
    "import pandas as pd\n",
    "import numpy as np\n",
    "import seaborn as sns\n",
    "import matplotlib.pyplot as plt"
   ]
  },
  {
   "cell_type": "code",
   "execution_count": 2,
   "metadata": {},
   "outputs": [],
   "source": [
    "skill_dict = {\n",
    "    1.1: \"Skill: Create and plan a clear presentation goal. E.g. Put together a good outline, and make sure the slides create a story that the clients can follow\",\n",
    "    1.2: \"Skill: Make the presentation in a concise format without straying from the topic and/or digressing.\",\n",
    "    1.3: \"Skill: Be familiar with the topic being presented beyond the DS/ML work. E.g. while working with the soccer game win prediction, be familiar with the soccer rules also.\",\n",
    "    1.4: \"Skill: Match your presentation contents to the audience type (technical, non-technical)?\",\n",
    "    1.5: \"Skill: Concentrate on the core message in the presentation. Keep the balance of the amount of the details in the presentation; Avoid anything which might lead to confusions.\",\n",
    "    1.6: \"Skill: Try to avoid overusing qualifying words. Qualifying words like: \\\"kinda\\\", \\\"just\\\", \\\"basically\\\", \\\"like\\\".\",\n",
    "    1.7: \"Skill: Pause between ideas allowing the client to chime in.\",\n",
    "    1.8: \"Skill: Carefully articulate words and speak at a steady pace. Do not rush through the slides or repeat the same information\",\n",
    "    2.1: \"Skill: Keep the formatting consistent throughout the presentation and adhere to the company guidelines.\",\n",
    "    2.2: \"Skill: Incorporate concrete examples to illustrate points, show examples from data, plots etc. E.g.: Keep graphics to 1 per slide if possible to avoid clutter; Avoid complicated equations/ideas on main slides, etc.\",\n",
    "    2.3: \"Skill: If speaking to a technical audience, adjust your slides accordingly with more technical materials. E.g. use more complex graphics without cluttering the slides; do not oversimplify topics, etc.\",\n",
    "    2.4: \"Skill: If speaking to a non-technical audience,  adjust your slides accordingly by staying focused on the main point of the presentation. E.g. avoid the technical details while sharing the overall method/result.\",\n",
    "    2.5: \"Skill: Determine the right amount of slides you need to have for the allocated meeting time. Do not have too many or too few slides. Remember to leave extra time for potential questions. E.g. avoid the technical details while sharing the overall method/result.\",\n",
    "    3.1: \"Skill: Practice / rehearse the presentation before the meeting\",\n",
    "    3.2: \"Skill: Introduce yourself well the first time you present to an audience\",\n",
    "    3.3: \"Skill: Remind them to stop you and ask questions at the beginning of the meeting. Wait for a few seconds in between each big picture point.\",\n",
    "    3.4: \"Skill: Stay confident and patient when being asked a question. Carefully listen to the client and follow up to make sure the client understood your answer\",\n",
    "    3.5: \"Skill: Notice reactions from the audience: e.g. if you feel that the audience is lost, maybe cut the explanation or extend it based on how important it is.\",\n",
    "    3.6: \"Skill: Keep in mind the points you are trying to convey and concentrate on helping the client understand them.\",\n",
    "    3.7: \"Skill: Relax, breathe and enjoy. Remember that you are the expert in the room and nobody knows the subject as well as you.\",\n",
    "}"
   ]
  },
  {
   "cell_type": "code",
   "execution_count": 3,
   "metadata": {},
   "outputs": [
    {
     "data": {
      "text/html": [
       "<div>\n",
       "<style scoped>\n",
       "    .dataframe tbody tr th:only-of-type {\n",
       "        vertical-align: middle;\n",
       "    }\n",
       "\n",
       "    .dataframe tbody tr th {\n",
       "        vertical-align: top;\n",
       "    }\n",
       "\n",
       "    .dataframe thead th {\n",
       "        text-align: right;\n",
       "    }\n",
       "</style>\n",
       "<table border=\"1\" class=\"dataframe\">\n",
       "  <thead>\n",
       "    <tr style=\"text-align: right;\">\n",
       "      <th></th>\n",
       "      <th>Q_index</th>\n",
       "      <th>user_index</th>\n",
       "      <th>importance_score</th>\n",
       "      <th>self_rating</th>\n",
       "      <th>teammate_rating</th>\n",
       "      <th>importance_sub_self</th>\n",
       "      <th>teammate_sub_self</th>\n",
       "    </tr>\n",
       "  </thead>\n",
       "  <tbody>\n",
       "    <tr>\n",
       "      <th>0</th>\n",
       "      <td>1.1</td>\n",
       "      <td>0</td>\n",
       "      <td>5.0</td>\n",
       "      <td>3.0</td>\n",
       "      <td>4.0</td>\n",
       "      <td>2.0</td>\n",
       "      <td>1.0</td>\n",
       "    </tr>\n",
       "    <tr>\n",
       "      <th>1</th>\n",
       "      <td>1.2</td>\n",
       "      <td>0</td>\n",
       "      <td>5.0</td>\n",
       "      <td>4.0</td>\n",
       "      <td>4.0</td>\n",
       "      <td>1.0</td>\n",
       "      <td>0.0</td>\n",
       "    </tr>\n",
       "    <tr>\n",
       "      <th>2</th>\n",
       "      <td>1.3</td>\n",
       "      <td>0</td>\n",
       "      <td>5.0</td>\n",
       "      <td>4.0</td>\n",
       "      <td>5.0</td>\n",
       "      <td>1.0</td>\n",
       "      <td>1.0</td>\n",
       "    </tr>\n",
       "    <tr>\n",
       "      <th>3</th>\n",
       "      <td>1.4</td>\n",
       "      <td>0</td>\n",
       "      <td>5.0</td>\n",
       "      <td>3.0</td>\n",
       "      <td>4.0</td>\n",
       "      <td>2.0</td>\n",
       "      <td>1.0</td>\n",
       "    </tr>\n",
       "    <tr>\n",
       "      <th>4</th>\n",
       "      <td>1.5</td>\n",
       "      <td>0</td>\n",
       "      <td>5.0</td>\n",
       "      <td>3.0</td>\n",
       "      <td>4.0</td>\n",
       "      <td>2.0</td>\n",
       "      <td>1.0</td>\n",
       "    </tr>\n",
       "  </tbody>\n",
       "</table>\n",
       "</div>"
      ],
      "text/plain": [
       "   Q_index  user_index  importance_score  self_rating  teammate_rating  \\\n",
       "0      1.1           0               5.0          3.0              4.0   \n",
       "1      1.2           0               5.0          4.0              4.0   \n",
       "2      1.3           0               5.0          4.0              5.0   \n",
       "3      1.4           0               5.0          3.0              4.0   \n",
       "4      1.5           0               5.0          3.0              4.0   \n",
       "\n",
       "   importance_sub_self  teammate_sub_self  \n",
       "0                  2.0                1.0  \n",
       "1                  1.0                0.0  \n",
       "2                  1.0                1.0  \n",
       "3                  2.0                1.0  \n",
       "4                  2.0                1.0  "
      ]
     },
     "execution_count": 3,
     "metadata": {},
     "output_type": "execute_result"
    }
   ],
   "source": [
    "# data converted from original survey\n",
    "data = pd.read_csv('converted.csv')\n",
    "data.head()"
   ]
  },
  {
   "cell_type": "code",
   "execution_count": 4,
   "metadata": {},
   "outputs": [
    {
     "data": {
      "text/html": [
       "<div>\n",
       "<style scoped>\n",
       "    .dataframe tbody tr th:only-of-type {\n",
       "        vertical-align: middle;\n",
       "    }\n",
       "\n",
       "    .dataframe tbody tr th {\n",
       "        vertical-align: top;\n",
       "    }\n",
       "\n",
       "    .dataframe thead th {\n",
       "        text-align: right;\n",
       "    }\n",
       "</style>\n",
       "<table border=\"1\" class=\"dataframe\">\n",
       "  <thead>\n",
       "    <tr style=\"text-align: right;\">\n",
       "      <th></th>\n",
       "      <th>importance_score</th>\n",
       "      <th>self_rating</th>\n",
       "      <th>teammate_rating</th>\n",
       "      <th>importance_sub_self</th>\n",
       "      <th>teammate_sub_self</th>\n",
       "    </tr>\n",
       "    <tr>\n",
       "      <th>Q_index</th>\n",
       "      <th></th>\n",
       "      <th></th>\n",
       "      <th></th>\n",
       "      <th></th>\n",
       "      <th></th>\n",
       "    </tr>\n",
       "  </thead>\n",
       "  <tbody>\n",
       "    <tr>\n",
       "      <th>1.1</th>\n",
       "      <td>4.785714</td>\n",
       "      <td>3.615385</td>\n",
       "      <td>3.333333</td>\n",
       "      <td>1.230769</td>\n",
       "      <td>-0.250000</td>\n",
       "    </tr>\n",
       "    <tr>\n",
       "      <th>1.2</th>\n",
       "      <td>4.142857</td>\n",
       "      <td>3.642857</td>\n",
       "      <td>3.500000</td>\n",
       "      <td>0.500000</td>\n",
       "      <td>-0.166667</td>\n",
       "    </tr>\n",
       "    <tr>\n",
       "      <th>1.3</th>\n",
       "      <td>3.857143</td>\n",
       "      <td>3.538462</td>\n",
       "      <td>3.500000</td>\n",
       "      <td>0.461538</td>\n",
       "      <td>0.000000</td>\n",
       "    </tr>\n",
       "    <tr>\n",
       "      <th>1.4</th>\n",
       "      <td>4.500000</td>\n",
       "      <td>3.769231</td>\n",
       "      <td>3.250000</td>\n",
       "      <td>0.692308</td>\n",
       "      <td>-0.454545</td>\n",
       "    </tr>\n",
       "    <tr>\n",
       "      <th>1.5</th>\n",
       "      <td>4.357143</td>\n",
       "      <td>3.384615</td>\n",
       "      <td>3.384615</td>\n",
       "      <td>0.923077</td>\n",
       "      <td>0.000000</td>\n",
       "    </tr>\n",
       "  </tbody>\n",
       "</table>\n",
       "</div>"
      ],
      "text/plain": [
       "         importance_score  self_rating  teammate_rating  importance_sub_self  \\\n",
       "Q_index                                                                        \n",
       "1.1              4.785714     3.615385         3.333333             1.230769   \n",
       "1.2              4.142857     3.642857         3.500000             0.500000   \n",
       "1.3              3.857143     3.538462         3.500000             0.461538   \n",
       "1.4              4.500000     3.769231         3.250000             0.692308   \n",
       "1.5              4.357143     3.384615         3.384615             0.923077   \n",
       "\n",
       "         teammate_sub_self  \n",
       "Q_index                     \n",
       "1.1              -0.250000  \n",
       "1.2              -0.166667  \n",
       "1.3               0.000000  \n",
       "1.4              -0.454545  \n",
       "1.5               0.000000  "
      ]
     },
     "execution_count": 4,
     "metadata": {},
     "output_type": "execute_result"
    }
   ],
   "source": [
    "# calculate the mean values of each column\n",
    "data_q = data.groupby('Q_index').mean().drop(['user_index'], axis=1)\n",
    "data_q.head()"
   ]
  },
  {
   "cell_type": "code",
   "execution_count": 5,
   "metadata": {},
   "outputs": [
    {
     "data": {
      "text/plain": [
       "Q_index\n",
       "1.1    4.785714\n",
       "3.4    4.571429\n",
       "1.4    4.500000\n",
       "1.5    4.357143\n",
       "3.6    4.285714\n",
       "2.2    4.285714\n",
       "2.4    4.214286\n",
       "1.2    4.142857\n",
       "2.5    4.071429\n",
       "3.5    3.928571\n",
       "3.2    3.857143\n",
       "1.3    3.857143\n",
       "1.8    3.857143\n",
       "3.7    3.785714\n",
       "1.7    3.785714\n",
       "3.1    3.642857\n",
       "2.1    3.642857\n",
       "2.3    3.642857\n",
       "1.6    3.500000\n",
       "3.3    3.428571\n",
       "Name: importance_score, dtype: float64"
      ]
     },
     "execution_count": 5,
     "metadata": {},
     "output_type": "execute_result"
    }
   ],
   "source": [
    "# sort by importance score\n",
    "data_q_rank_importance = data_q.sort_values(by='importance_score', ascending=False)['importance_score']\n",
    "data_q_rank_importance"
   ]
  },
  {
   "cell_type": "code",
   "execution_count": 6,
   "metadata": {},
   "outputs": [
    {
     "name": "stdout",
     "output_type": "stream",
     "text": [
      "Skills that are ranked by importance: \n",
      "\n",
      "1.1 Skill: Create and plan a clear presentation goal. E.g. Put together a good outline, and make sure the slides create a story that the clients can follow\n",
      "3.4 Skill: Stay confident and patient when being asked a question. Carefully listen to the client and follow up to make sure the client understood your answer\n",
      "1.4 Skill: Match your presentation contents to the audience type (technical, non-technical)?\n",
      "1.5 Skill: Concentrate on the core message in the presentation. Keep the balance of the amount of the details in the presentation; Avoid anything which might lead to confusions.\n",
      "3.6 Skill: Keep in mind the points you are trying to convey and concentrate on helping the client understand them.\n",
      "2.2 Skill: Incorporate concrete examples to illustrate points, show examples from data, plots etc. E.g.: Keep graphics to 1 per slide if possible to avoid clutter; Avoid complicated equations/ideas on main slides, etc.\n",
      "2.4 Skill: If speaking to a non-technical audience,  adjust your slides accordingly by staying focused on the main point of the presentation. E.g. avoid the technical details while sharing the overall method/result.\n",
      "1.2 Skill: Make the presentation in a concise format without straying from the topic and/or digressing.\n",
      "2.5 Skill: Determine the right amount of slides you need to have for the allocated meeting time. Do not have too many or too few slides. Remember to leave extra time for potential questions. E.g. avoid the technical details while sharing the overall method/result.\n",
      "3.5 Skill: Notice reactions from the audience: e.g. if you feel that the audience is lost, maybe cut the explanation or extend it based on how important it is.\n",
      "3.2 Skill: Introduce yourself well the first time you present to an audience\n",
      "1.3 Skill: Be familiar with the topic being presented beyond the DS/ML work. E.g. while working with the soccer game win prediction, be familiar with the soccer rules also.\n",
      "1.8 Skill: Carefully articulate words and speak at a steady pace. Do not rush through the slides or repeat the same information\n",
      "3.7 Skill: Relax, breathe and enjoy. Remember that you are the expert in the room and nobody knows the subject as well as you.\n",
      "1.7 Skill: Pause between ideas allowing the client to chime in.\n",
      "3.1 Skill: Practice / rehearse the presentation before the meeting\n",
      "2.1 Skill: Keep the formatting consistent throughout the presentation and adhere to the company guidelines.\n",
      "2.3 Skill: If speaking to a technical audience, adjust your slides accordingly with more technical materials. E.g. use more complex graphics without cluttering the slides; do not oversimplify topics, etc.\n",
      "1.6 Skill: Try to avoid overusing qualifying words. Qualifying words like: \"kinda\", \"just\", \"basically\", \"like\".\n",
      "3.3 Skill: Remind them to stop you and ask questions at the beginning of the meeting. Wait for a few seconds in between each big picture point.\n"
     ]
    }
   ],
   "source": [
    "print(\"Skills that are ranked by importance: \\n\")\n",
    "for idx in data_q_rank_importance.index:\n",
    "    print(\"%2.1f %s\" %(idx, skill_dict[idx]))"
   ]
  },
  {
   "cell_type": "code",
   "execution_count": 7,
   "metadata": {},
   "outputs": [
    {
     "data": {
      "text/plain": [
       "Q_index\n",
       "1.1    1.230769\n",
       "3.2    1.000000\n",
       "1.5    0.923077\n",
       "3.1    0.923077\n",
       "3.4    0.769231\n",
       "3.6    0.692308\n",
       "1.4    0.692308\n",
       "1.6    0.692308\n",
       "2.5    0.615385\n",
       "2.4    0.615385\n",
       "3.5    0.538462\n",
       "1.2    0.500000\n",
       "3.7    0.461538\n",
       "1.8    0.461538\n",
       "1.3    0.461538\n",
       "3.3    0.384615\n",
       "1.7    0.384615\n",
       "2.2    0.307692\n",
       "2.1    0.076923\n",
       "2.3   -0.076923\n",
       "Name: importance_sub_self, dtype: float64"
      ]
     },
     "execution_count": 7,
     "metadata": {},
     "output_type": "execute_result"
    }
   ],
   "source": [
    "# sort by importance score - self rating\n",
    "# higher value indicates that we need to improve in those skills\n",
    "data_q_rank_impsubself = data_q.sort_values(by='importance_sub_self', ascending=False)['importance_sub_self']\n",
    "data_q_rank_impsubself"
   ]
  },
  {
   "cell_type": "code",
   "execution_count": 8,
   "metadata": {},
   "outputs": [
    {
     "name": "stdout",
     "output_type": "stream",
     "text": [
      "Skills that are ranked by the importance score minus self rating: \n",
      "\n",
      "1.1 Skill: Create and plan a clear presentation goal. E.g. Put together a good outline, and make sure the slides create a story that the clients can follow\n",
      "3.2 Skill: Introduce yourself well the first time you present to an audience\n",
      "1.5 Skill: Concentrate on the core message in the presentation. Keep the balance of the amount of the details in the presentation; Avoid anything which might lead to confusions.\n",
      "3.1 Skill: Practice / rehearse the presentation before the meeting\n",
      "3.4 Skill: Stay confident and patient when being asked a question. Carefully listen to the client and follow up to make sure the client understood your answer\n",
      "3.6 Skill: Keep in mind the points you are trying to convey and concentrate on helping the client understand them.\n",
      "1.4 Skill: Match your presentation contents to the audience type (technical, non-technical)?\n",
      "1.6 Skill: Try to avoid overusing qualifying words. Qualifying words like: \"kinda\", \"just\", \"basically\", \"like\".\n",
      "2.5 Skill: Determine the right amount of slides you need to have for the allocated meeting time. Do not have too many or too few slides. Remember to leave extra time for potential questions. E.g. avoid the technical details while sharing the overall method/result.\n",
      "2.4 Skill: If speaking to a non-technical audience,  adjust your slides accordingly by staying focused on the main point of the presentation. E.g. avoid the technical details while sharing the overall method/result.\n",
      "3.5 Skill: Notice reactions from the audience: e.g. if you feel that the audience is lost, maybe cut the explanation or extend it based on how important it is.\n",
      "1.2 Skill: Make the presentation in a concise format without straying from the topic and/or digressing.\n",
      "3.7 Skill: Relax, breathe and enjoy. Remember that you are the expert in the room and nobody knows the subject as well as you.\n",
      "1.8 Skill: Carefully articulate words and speak at a steady pace. Do not rush through the slides or repeat the same information\n",
      "1.3 Skill: Be familiar with the topic being presented beyond the DS/ML work. E.g. while working with the soccer game win prediction, be familiar with the soccer rules also.\n",
      "3.3 Skill: Remind them to stop you and ask questions at the beginning of the meeting. Wait for a few seconds in between each big picture point.\n",
      "1.7 Skill: Pause between ideas allowing the client to chime in.\n",
      "2.2 Skill: Incorporate concrete examples to illustrate points, show examples from data, plots etc. E.g.: Keep graphics to 1 per slide if possible to avoid clutter; Avoid complicated equations/ideas on main slides, etc.\n",
      "2.1 Skill: Keep the formatting consistent throughout the presentation and adhere to the company guidelines.\n",
      "2.3 Skill: If speaking to a technical audience, adjust your slides accordingly with more technical materials. E.g. use more complex graphics without cluttering the slides; do not oversimplify topics, etc.\n"
     ]
    }
   ],
   "source": [
    "print(\"Skills that are ranked by the importance score minus self rating: \\n\")\n",
    "for idx in data_q_rank_impsubself.index:\n",
    "    print(\"%2.1f %s\" %(idx, skill_dict[idx]))"
   ]
  },
  {
   "cell_type": "code",
   "execution_count": 9,
   "metadata": {},
   "outputs": [
    {
     "data": {
      "text/plain": [
       "Q_index\n",
       "3.1    0.583333\n",
       "3.2    0.416667\n",
       "3.7    0.333333\n",
       "1.6    0.333333\n",
       "3.3    0.166667\n",
       "2.5    0.000000\n",
       "1.3    0.000000\n",
       "1.5    0.000000\n",
       "1.7    0.000000\n",
       "3.6   -0.083333\n",
       "2.3   -0.083333\n",
       "1.8   -0.083333\n",
       "2.4   -0.166667\n",
       "1.2   -0.166667\n",
       "3.4   -0.166667\n",
       "3.5   -0.166667\n",
       "2.1   -0.250000\n",
       "1.1   -0.250000\n",
       "2.2   -0.416667\n",
       "1.4   -0.454545\n",
       "Name: teammate_sub_self, dtype: float64"
      ]
     },
     "execution_count": 9,
     "metadata": {},
     "output_type": "execute_result"
    }
   ],
   "source": [
    "# sort by teammate rating - self rating\n",
    "# higher value indicates that one can possibly learn from a teammate\n",
    "data_q_rank_tmmsubself = data_q.sort_values(by='teammate_sub_self', ascending=False)['teammate_sub_self']\n",
    "data_q_rank_tmmsubself"
   ]
  },
  {
   "cell_type": "code",
   "execution_count": 10,
   "metadata": {},
   "outputs": [
    {
     "name": "stdout",
     "output_type": "stream",
     "text": [
      "Skills that are ranked by the teammate rating minus self rating: \n",
      "\n",
      "3.1 Skill: Practice / rehearse the presentation before the meeting\n",
      "3.2 Skill: Introduce yourself well the first time you present to an audience\n",
      "3.7 Skill: Relax, breathe and enjoy. Remember that you are the expert in the room and nobody knows the subject as well as you.\n",
      "1.6 Skill: Try to avoid overusing qualifying words. Qualifying words like: \"kinda\", \"just\", \"basically\", \"like\".\n",
      "3.3 Skill: Remind them to stop you and ask questions at the beginning of the meeting. Wait for a few seconds in between each big picture point.\n",
      "2.5 Skill: Determine the right amount of slides you need to have for the allocated meeting time. Do not have too many or too few slides. Remember to leave extra time for potential questions. E.g. avoid the technical details while sharing the overall method/result.\n",
      "1.3 Skill: Be familiar with the topic being presented beyond the DS/ML work. E.g. while working with the soccer game win prediction, be familiar with the soccer rules also.\n",
      "1.5 Skill: Concentrate on the core message in the presentation. Keep the balance of the amount of the details in the presentation; Avoid anything which might lead to confusions.\n",
      "1.7 Skill: Pause between ideas allowing the client to chime in.\n",
      "3.6 Skill: Keep in mind the points you are trying to convey and concentrate on helping the client understand them.\n",
      "2.3 Skill: If speaking to a technical audience, adjust your slides accordingly with more technical materials. E.g. use more complex graphics without cluttering the slides; do not oversimplify topics, etc.\n",
      "1.8 Skill: Carefully articulate words and speak at a steady pace. Do not rush through the slides or repeat the same information\n",
      "2.4 Skill: If speaking to a non-technical audience,  adjust your slides accordingly by staying focused on the main point of the presentation. E.g. avoid the technical details while sharing the overall method/result.\n",
      "1.2 Skill: Make the presentation in a concise format without straying from the topic and/or digressing.\n",
      "3.4 Skill: Stay confident and patient when being asked a question. Carefully listen to the client and follow up to make sure the client understood your answer\n",
      "3.5 Skill: Notice reactions from the audience: e.g. if you feel that the audience is lost, maybe cut the explanation or extend it based on how important it is.\n",
      "2.1 Skill: Keep the formatting consistent throughout the presentation and adhere to the company guidelines.\n",
      "1.1 Skill: Create and plan a clear presentation goal. E.g. Put together a good outline, and make sure the slides create a story that the clients can follow\n",
      "2.2 Skill: Incorporate concrete examples to illustrate points, show examples from data, plots etc. E.g.: Keep graphics to 1 per slide if possible to avoid clutter; Avoid complicated equations/ideas on main slides, etc.\n",
      "1.4 Skill: Match your presentation contents to the audience type (technical, non-technical)?\n"
     ]
    }
   ],
   "source": [
    "print(\"Skills that are ranked by the teammate rating minus self rating: \\n\")\n",
    "for idx in data_q_rank_tmmsubself.index:\n",
    "    print(\"%2.1f %s\" %(idx, skill_dict[idx]))"
   ]
  },
  {
   "cell_type": "code",
   "execution_count": null,
   "metadata": {},
   "outputs": [],
   "source": []
  },
  {
   "cell_type": "code",
   "execution_count": 11,
   "metadata": {},
   "outputs": [
    {
     "name": "stdout",
     "output_type": "stream",
     "text": [
      "1.1 Skill: Create and plan a clear presentation goal. E.g. Put together a good outline, and make sure the slides create a story that the clients can follow\n",
      "3.4 Skill: Stay confident and patient when being asked a question. Carefully listen to the client and follow up to make sure the client understood your answer\n",
      "1.4 Skill: Match your presentation contents to the audience type (technical, non-technical)?\n",
      "1.5 Skill: Concentrate on the core message in the presentation. Keep the balance of the amount of the details in the presentation; Avoid anything which might lead to confusions.\n",
      "3.6 Skill: Keep in mind the points you are trying to convey and concentrate on helping the client understand them.\n",
      "2.4 Skill: If speaking to a non-technical audience,  adjust your slides accordingly by staying focused on the main point of the presentation. E.g. avoid the technical details while sharing the overall method/result.\n",
      "2.5 Skill: Determine the right amount of slides you need to have for the allocated meeting time. Do not have too many or too few slides. Remember to leave extra time for potential questions. E.g. avoid the technical details while sharing the overall method/result.\n"
     ]
    }
   ],
   "source": [
    "# skill index which are in the top 10 importance score and\n",
    "#      it is in the top 10 (importance score - self rating) \n",
    "# these skills are considered important and need improvements.\n",
    "\n",
    "qidx_imp_selflow = [i for i in data_q_rank_importance.index[0:10] if i in data_q_rank_impsubself.index[0:10]]\n",
    "for idx in qidx_imp_selflow:\n",
    "    print(\"%2.1f %s\" %(idx, skill_dict[idx]))"
   ]
  },
  {
   "cell_type": "code",
   "execution_count": null,
   "metadata": {},
   "outputs": [],
   "source": []
  },
  {
   "cell_type": "code",
   "execution_count": 12,
   "metadata": {},
   "outputs": [
    {
     "data": {
      "image/png": "[encoded data removed]",
      "text/plain": [
       "<Figure size 432x432 with 1 Axes>"
      ]
     },
     "metadata": {
      "needs_background": "light"
     },
     "output_type": "display_data"
    }
   ],
   "source": [
    "plt.figure(figsize=(6, 6))\n",
    "sns.distplot(data['importance_score'], color=\"skyblue\", label=\"Importance Score\")\n",
    "sns.distplot(data['self_rating'], color=\"red\", label=\"Self Rating\")\n",
    "sns.distplot(data['teammate_rating'], color=\"lightgreen\", label=\"Teammate Rating\")\n",
    "plt.legend()\n",
    "plt.show()"
   ]
  },
  {
   "cell_type": "code",
   "execution_count": 13,
   "metadata": {},
   "outputs": [
    {
     "data": {
      "image/png": "[encoded data removed]",
      "text/plain": [
       "<Figure size 432x432 with 1 Axes>"
      ]
     },
     "metadata": {
      "needs_background": "light"
     },
     "output_type": "display_data"
    }
   ],
   "source": [
    "plt.figure(figsize=(6, 6))\n",
    "sns.distplot(data['importance_sub_self'], color=\"skyblue\", label=\"Importance Score - Self Rating\")\n",
    "sns.distplot(data['teammate_sub_self'], color=\"red\", label=\"Teammate Rating - Self Rating\")\n",
    "plt.legend()\n",
    "plt.show()"
   ]
  },
  {
   "cell_type": "code",
   "execution_count": null,
   "metadata": {},
   "outputs": [],
   "source": []
  },
  {
   "cell_type": "code",
   "execution_count": null,
   "metadata": {},
   "outputs": [],
   "source": []
  }
 ],
 "metadata": {
  "kernelspec": {
   "display_name": "Python 3",
   "language": "python",
   "name": "python3"
  },
  "language_info": {
   "codemirror_mode": {
    "name": "ipython",
    "version": 3
   },
   "file_extension": ".py",
   "mimetype": "text/x-python",
   "name": "python",
   "nbconvert_exporter": "python",
   "pygments_lexer": "ipython3",
   "version": "3.8.4"
  }
 },
 "nbformat": 4,
 "nbformat_minor": 4
}
